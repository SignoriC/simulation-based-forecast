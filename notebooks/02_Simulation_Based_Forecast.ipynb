{
 "cells": [
  {
   "cell_type": "markdown",
   "id": "d4bf183a",
   "metadata": {},
   "source": [
    "## 📊 Forecasting Patient Uptake for Drug X: A Simulation-Based Approach\n",
    "This notebook shows how to use the forecasting utility functions defined chapter 01 and stored in `utils.py` to simulate patient uptake dynamics for Drug X in a single country. \n",
    "\n",
    "The **objective** is to generate a funnel of possible forecasts by running several simulations, allowing for better-informed planning, expectation management, and sensitivity analysis. This approach combines epidemiological assumptions with probabilistic modeling, providing a flexible and data-driven framework to project the number of patients on treatment over time.\n",
    "\n",
    "This simulation framework is useful for understanding a range of plausible realization patterns of the monthly patients on treatment with Drug X."
   ]
  },
  {
   "cell_type": "markdown",
   "id": "9b326720",
   "metadata": {},
   "source": [
    "1. 📦 Setup\n",
    "\n",
    "    Import required libraries and custom functions from `utils.py`."
   ]
  },
  {
   "cell_type": "code",
   "execution_count": 1,
   "id": "fd7de643",
   "metadata": {},
   "outputs": [],
   "source": [
    "import numpy as np\n",
    "import pandas as pd\n",
    "\n",
    "from utils import (\n",
    "    simulate_monthly_eligibles,\n",
    "    simulate_pts_seen_by_users,\n",
    "    simulate_new_pts_treated,\n",
    "    simulate_treatment_persistence,\n",
    "    simulate_forecast\n",
    ")\n",
    "\n",
    "np.random.seed(123)  # Set a fixed seed for reproducibility"
   ]
  },
  {
   "cell_type": "markdown",
   "id": "c713288b",
   "metadata": {},
   "source": [
    "2. ⚙️ Define Simulation Parameters\n",
    "\n",
    "    Set the fixed and variable parameters for the forecasting simulation.\n",
    "    - Number of simulations (10 in this example to visualize the operations)\n",
    "\n",
    "    - Annual eligible population\n",
    "\n",
    "    - Number of months to simulate\n",
    "\n",
    "    - Adoption and treatment assumptions (e.g.treatment probability, persistence behavior)\n"
   ]
  },
  {
   "cell_type": "code",
   "execution_count": 2,
   "id": "a731c8f8",
   "metadata": {},
   "outputs": [],
   "source": [
    "# Define the number of simulations\n",
    "num_simulations = 10\n",
    "\n",
    "# eligible population and forecast timespan\n",
    "annual_eligibles = 1500 # nr of new eligible patients each year in a Country\n",
    "start_date = '2025-10-01' # launch date to start the forecast\n",
    "months_to_forecast = 60 # months to forecast (5 years)\n",
    "\n",
    "# treatment probability \n",
    "intitial_user_share = 0.10\n",
    "max_user_share = 0.70\n",
    "months_to_peak = 36 # months to reach users at peak (3 years)\n",
    "prob_to_prescribe = 0.35 # % of eligible patients that users of Drug X prescribe\n",
    "\n",
    "# persistence on treatment\n",
    "median_duration = 10\n",
    "max_duration = None # patients treated until progression"
   ]
  },
  {
   "cell_type": "markdown",
   "id": "1bfc98d8",
   "metadata": {},
   "source": [
    "3. 🔁 Run Multiple Forecast Simulations\n",
    "\n",
    "    Run the full forecast pipeline multiple times to capture variability.\n",
    "\n",
    "    - Create a loop over N simulations\n",
    "\n",
    "    - Store results in a list or DataFrame for aggregation"
   ]
  },
  {
   "cell_type": "code",
   "execution_count": 3,
   "id": "9c4648c0",
   "metadata": {},
   "outputs": [],
   "source": [
    "# Initialize a list to store the results of each simulation\n",
    "results = []\n",
    "\n",
    "for i in range(num_simulations):\n",
    "    df = simulate_monthly_eligibles(\n",
    "        annual_eligibles=annual_eligibles,\n",
    "        n_months=months_to_forecast,\n",
    "        start_date=start_date\n",
    "    ) # to be passed to eligible_df argument in the next function\n",
    "    df = simulate_pts_seen_by_users(\n",
    "        eligible_df=df,\n",
    "        max_user_share=max_user_share,\n",
    "        initial_user_share=intitial_user_share,\n",
    "        months_to_peak=months_to_peak\n",
    "    ) # to be passed to user_seen_df argument in the next function\n",
    "    df = simulate_new_pts_treated(\n",
    "        user_seen_df=df,\n",
    "        mean_treatment_prob=prob_to_prescribe\n",
    "    ) # to be passed to df argument in the next function\n",
    "    df = simulate_forecast(\n",
    "        df=df,\n",
    "        median_duration_months=median_duration,\n",
    "        max_duration_months=max_duration\n",
    "    )\n",
    "    results.append(df)\n",
    "\n",
    "# Now you have a list of DataFrames, one for each simulation"
   ]
  },
  {
   "cell_type": "code",
   "execution_count": 4,
   "id": "07b1ee90",
   "metadata": {},
   "outputs": [
    {
     "data": {
      "text/html": [
       "<div>\n",
       "<style scoped>\n",
       "    .dataframe tbody tr th:only-of-type {\n",
       "        vertical-align: middle;\n",
       "    }\n",
       "\n",
       "    .dataframe tbody tr th {\n",
       "        vertical-align: top;\n",
       "    }\n",
       "\n",
       "    .dataframe thead th {\n",
       "        text-align: right;\n",
       "    }\n",
       "</style>\n",
       "<table border=\"1\" class=\"dataframe\">\n",
       "  <thead>\n",
       "    <tr style=\"text-align: right;\">\n",
       "      <th></th>\n",
       "      <th>Eligible_pts</th>\n",
       "      <th>Pts_seen_by_users</th>\n",
       "      <th>New_pts_treated</th>\n",
       "      <th>Pts_on_treatment</th>\n",
       "    </tr>\n",
       "  </thead>\n",
       "  <tbody>\n",
       "    <tr>\n",
       "      <th>2025-10-31</th>\n",
       "      <td>132</td>\n",
       "      <td>13</td>\n",
       "      <td>5</td>\n",
       "      <td>5</td>\n",
       "    </tr>\n",
       "    <tr>\n",
       "      <th>2025-11-30</th>\n",
       "      <td>128</td>\n",
       "      <td>16</td>\n",
       "      <td>7</td>\n",
       "      <td>12</td>\n",
       "    </tr>\n",
       "    <tr>\n",
       "      <th>2025-12-31</th>\n",
       "      <td>136</td>\n",
       "      <td>9</td>\n",
       "      <td>4</td>\n",
       "      <td>14</td>\n",
       "    </tr>\n",
       "    <tr>\n",
       "      <th>2026-01-31</th>\n",
       "      <td>134</td>\n",
       "      <td>30</td>\n",
       "      <td>7</td>\n",
       "      <td>19</td>\n",
       "    </tr>\n",
       "    <tr>\n",
       "      <th>2026-02-28</th>\n",
       "      <td>115</td>\n",
       "      <td>15</td>\n",
       "      <td>7</td>\n",
       "      <td>25</td>\n",
       "    </tr>\n",
       "  </tbody>\n",
       "</table>\n",
       "</div>"
      ],
      "text/plain": [
       "            Eligible_pts  Pts_seen_by_users  New_pts_treated  Pts_on_treatment\n",
       "2025-10-31           132                 13                5                 5\n",
       "2025-11-30           128                 16                7                12\n",
       "2025-12-31           136                  9                4                14\n",
       "2026-01-31           134                 30                7                19\n",
       "2026-02-28           115                 15                7                25"
      ]
     },
     "execution_count": 4,
     "metadata": {},
     "output_type": "execute_result"
    }
   ],
   "source": [
    "results[0].head()"
   ]
  },
  {
   "cell_type": "markdown",
   "id": "a2906a1c",
   "metadata": {},
   "source": [
    "4. 📊 Visualize Forecast Funnel\n",
    "\n",
    "    Plot the distribution of patient numbers on treatment across simulations.\n",
    "\n",
    "    - Overlay all simulation lines to show the range\n",
    "\n",
    "    - Plot confidence bands (e.g., 10th–90th percentile)\n",
    "\n",
    "    - Add median or mean forecast line"
   ]
  },
  {
   "cell_type": "code",
   "execution_count": 5,
   "id": "fb304604",
   "metadata": {},
   "outputs": [
    {
     "data": {
      "text/html": [
       "<div>\n",
       "<style scoped>\n",
       "    .dataframe tbody tr th:only-of-type {\n",
       "        vertical-align: middle;\n",
       "    }\n",
       "\n",
       "    .dataframe tbody tr th {\n",
       "        vertical-align: top;\n",
       "    }\n",
       "\n",
       "    .dataframe thead th {\n",
       "        text-align: right;\n",
       "    }\n",
       "</style>\n",
       "<table border=\"1\" class=\"dataframe\">\n",
       "  <thead>\n",
       "    <tr style=\"text-align: right;\">\n",
       "      <th></th>\n",
       "      <th>Pts_sim0</th>\n",
       "      <th>Pts_sim1</th>\n",
       "      <th>Pts_sim2</th>\n",
       "      <th>Pts_sim3</th>\n",
       "      <th>Pts_sim4</th>\n",
       "      <th>Pts_sim5</th>\n",
       "      <th>Pts_sim6</th>\n",
       "      <th>Pts_sim7</th>\n",
       "      <th>Pts_sim8</th>\n",
       "      <th>Pts_sim9</th>\n",
       "    </tr>\n",
       "  </thead>\n",
       "  <tbody>\n",
       "    <tr>\n",
       "      <th>2025-10-31</th>\n",
       "      <td>5</td>\n",
       "      <td>5</td>\n",
       "      <td>4</td>\n",
       "      <td>7</td>\n",
       "      <td>8</td>\n",
       "      <td>9</td>\n",
       "      <td>4</td>\n",
       "      <td>5</td>\n",
       "      <td>1</td>\n",
       "      <td>2</td>\n",
       "    </tr>\n",
       "    <tr>\n",
       "      <th>2025-11-30</th>\n",
       "      <td>12</td>\n",
       "      <td>8</td>\n",
       "      <td>9</td>\n",
       "      <td>11</td>\n",
       "      <td>9</td>\n",
       "      <td>12</td>\n",
       "      <td>11</td>\n",
       "      <td>8</td>\n",
       "      <td>3</td>\n",
       "      <td>8</td>\n",
       "    </tr>\n",
       "    <tr>\n",
       "      <th>2025-12-31</th>\n",
       "      <td>14</td>\n",
       "      <td>12</td>\n",
       "      <td>11</td>\n",
       "      <td>20</td>\n",
       "      <td>8</td>\n",
       "      <td>15</td>\n",
       "      <td>14</td>\n",
       "      <td>12</td>\n",
       "      <td>10</td>\n",
       "      <td>14</td>\n",
       "    </tr>\n",
       "  </tbody>\n",
       "</table>\n",
       "</div>"
      ],
      "text/plain": [
       "            Pts_sim0  Pts_sim1  Pts_sim2  Pts_sim3  Pts_sim4  Pts_sim5  \\\n",
       "2025-10-31         5         5         4         7         8         9   \n",
       "2025-11-30        12         8         9        11         9        12   \n",
       "2025-12-31        14        12        11        20         8        15   \n",
       "\n",
       "            Pts_sim6  Pts_sim7  Pts_sim8  Pts_sim9  \n",
       "2025-10-31         4         5         1         2  \n",
       "2025-11-30        11         8         3         8  \n",
       "2025-12-31        14        12        10        14  "
      ]
     },
     "execution_count": 5,
     "metadata": {},
     "output_type": "execute_result"
    }
   ],
   "source": [
    "# Extract only the column of interest for the list of simulations DataFrames to be conactenated\n",
    "df_sims = [\n",
    "    df.filter(items=['Pts_on_treatment']) for df in results\n",
    "]\n",
    "df_sims = pd.concat(df_sims, axis=1)\n",
    "df_sims.columns = [f'Pts_sim{i}' for i in range(num_simulations)]\n",
    "df_sims.index = results[0].index  # optional, ensures consistent datetime index\n",
    "\n",
    "df_sims.head(3)"
   ]
  },
  {
   "cell_type": "code",
   "execution_count": 6,
   "id": "3e364128",
   "metadata": {},
   "outputs": [
    {
     "data": {
      "text/html": [
       "<div>\n",
       "<style scoped>\n",
       "    .dataframe tbody tr th:only-of-type {\n",
       "        vertical-align: middle;\n",
       "    }\n",
       "\n",
       "    .dataframe tbody tr th {\n",
       "        vertical-align: top;\n",
       "    }\n",
       "\n",
       "    .dataframe thead th {\n",
       "        text-align: right;\n",
       "    }\n",
       "</style>\n",
       "<table border=\"1\" class=\"dataframe\">\n",
       "  <thead>\n",
       "    <tr style=\"text-align: right;\">\n",
       "      <th></th>\n",
       "      <th>Pct_5</th>\n",
       "      <th>Pct_50</th>\n",
       "      <th>Pct_95</th>\n",
       "    </tr>\n",
       "  </thead>\n",
       "  <tbody>\n",
       "    <tr>\n",
       "      <th>2025-10-31</th>\n",
       "      <td>1.45</td>\n",
       "      <td>5.0</td>\n",
       "      <td>8.55</td>\n",
       "    </tr>\n",
       "    <tr>\n",
       "      <th>2025-11-30</th>\n",
       "      <td>5.25</td>\n",
       "      <td>9.0</td>\n",
       "      <td>12.00</td>\n",
       "    </tr>\n",
       "    <tr>\n",
       "      <th>2025-12-31</th>\n",
       "      <td>8.90</td>\n",
       "      <td>13.0</td>\n",
       "      <td>17.75</td>\n",
       "    </tr>\n",
       "  </tbody>\n",
       "</table>\n",
       "</div>"
      ],
      "text/plain": [
       "            Pct_5  Pct_50  Pct_95\n",
       "2025-10-31   1.45     5.0    8.55\n",
       "2025-11-30   5.25     9.0   12.00\n",
       "2025-12-31   8.90    13.0   17.75"
      ]
     },
     "execution_count": 6,
     "metadata": {},
     "output_type": "execute_result"
    }
   ],
   "source": [
    "# Compute summary statistics\n",
    "percentiles = [0.05, 0.5, 0.95]\n",
    "df_summary = df_sims.quantile(q=percentiles, axis=1).transpose()\n",
    "df_summary.columns = [f'Pct_{int(p*100)}' for p in percentiles]\n",
    "df_summary.head(3)"
   ]
  },
  {
   "cell_type": "code",
   "execution_count": 7,
   "id": "02c6a661",
   "metadata": {},
   "outputs": [
    {
     "data": {
      "text/plain": [
       "<Axes: title={'center': '5 Year Monthly Forecast Funnel of Patients on Drug X'}, xlabel='Time', ylabel='Nr of patients'>"
      ]
     },
     "execution_count": 7,
     "metadata": {},
     "output_type": "execute_result"
    },
    {
     "data": {
      "image/png": "[encoded data removed]",
      "text/plain": [
       "<Figure size 1200x500 with 1 Axes>"
      ]
     },
     "metadata": {},
     "output_type": "display_data"
    }
   ],
   "source": [
    "# Plotting\n",
    "df_summary.plot(\n",
    "    figsize=(12, 5),\n",
    "    ylim=(0, df_summary['Pct_95'].max() + 50),\n",
    "    title=f\"{months_to_forecast // 12} Year Monthly Forecast Funnel of Patients on Drug X\",\n",
    "    ylabel='Nr of patients',\n",
    "    xlabel='Time',\n",
    "    grid=True\n",
    ")"
   ]
  },
  {
   "cell_type": "markdown",
   "id": "99e96ea1",
   "metadata": {},
   "source": [
    "5. 📉 Analyze and Export Forecast Results\n",
    "\n",
    "    🎯 Purpose: Derive key takeaways from the forecast funnel, compare expected outcomes, and optionally save the outputs for reporting or further analysis.\n",
    "\n"
   ]
  },
  {
   "cell_type": "code",
   "execution_count": 8,
   "id": "f594cc94",
   "metadata": {},
   "outputs": [
    {
     "data": {
      "text/html": [
       "<div>\n",
       "<style scoped>\n",
       "    .dataframe tbody tr th:only-of-type {\n",
       "        vertical-align: middle;\n",
       "    }\n",
       "\n",
       "    .dataframe tbody tr th {\n",
       "        vertical-align: top;\n",
       "    }\n",
       "\n",
       "    .dataframe thead th {\n",
       "        text-align: right;\n",
       "    }\n",
       "</style>\n",
       "<table border=\"1\" class=\"dataframe\">\n",
       "  <thead>\n",
       "    <tr style=\"text-align: right;\">\n",
       "      <th></th>\n",
       "      <th>Pct_5</th>\n",
       "      <th>Pct_50</th>\n",
       "      <th>Pct_95</th>\n",
       "    </tr>\n",
       "    <tr>\n",
       "      <th>Month</th>\n",
       "      <th></th>\n",
       "      <th></th>\n",
       "      <th></th>\n",
       "    </tr>\n",
       "  </thead>\n",
       "  <tbody>\n",
       "    <tr>\n",
       "      <th>2026-09-30</th>\n",
       "      <td>61.25</td>\n",
       "      <td>74.5</td>\n",
       "      <td>87.65</td>\n",
       "    </tr>\n",
       "    <tr>\n",
       "      <th>2028-09-30</th>\n",
       "      <td>252.70</td>\n",
       "      <td>272.0</td>\n",
       "      <td>315.70</td>\n",
       "    </tr>\n",
       "    <tr>\n",
       "      <th>2030-09-30</th>\n",
       "      <td>360.20</td>\n",
       "      <td>403.0</td>\n",
       "      <td>434.95</td>\n",
       "    </tr>\n",
       "  </tbody>\n",
       "</table>\n",
       "</div>"
      ],
      "text/plain": [
       "             Pct_5  Pct_50  Pct_95\n",
       "Month                             \n",
       "2026-09-30   61.25    74.5   87.65\n",
       "2028-09-30  252.70   272.0  315.70\n",
       "2030-09-30  360.20   403.0  434.95"
      ]
     },
     "metadata": {},
     "output_type": "display_data"
    }
   ],
   "source": [
    "# Extract dates and values at key milestones\n",
    "milestones = [12, 36, 60]  # months (1, 3, and 5 years)\n",
    "milestone_summary = df_summary.iloc[[m - 1 for m in milestones]]\n",
    "milestone_summary.index.name = 'Month'\n",
    "display(milestone_summary)\n"
   ]
  },
  {
   "cell_type": "code",
   "execution_count": 9,
   "id": "a1f8d3ae",
   "metadata": {},
   "outputs": [
    {
     "name": "stdout",
     "output_type": "stream",
     "text": [
      "Estimated median patients on treatment at month 12: 74\n",
      "Estimated median patients on treatment at month 36: 272\n",
      "Estimated median patients on treatment at month 60: 403\n"
     ]
    }
   ],
   "source": [
    "for month in milestones:\n",
    "    patients = df_summary.loc[df_summary.index[month - 1], 'Pct_50']\n",
    "    print(f\"Estimated median patients on treatment at month {month}: {patients:.0f}\")\n"
   ]
  },
  {
   "cell_type": "markdown",
   "id": "ed779e66",
   "metadata": {},
   "source": [
    "Export Results:"
   ]
  },
  {
   "cell_type": "code",
   "execution_count": 10,
   "id": "d630c2dc",
   "metadata": {},
   "outputs": [
    {
     "name": "stdout",
     "output_type": "stream",
     "text": [
      "Forecast Summary saved in ../data/forecast_summary.xlsx\n"
     ]
    }
   ],
   "source": [
    "# Specify the Excel file path\n",
    "excel_file_path = \"../data/forecast_summary.xlsx\"\n",
    "csv_file_path = '../data/forecast_simulations.csv'\n",
    "\n",
    "# Save the simulation outputs to CSV\n",
    "df_sims.to_csv(csv_file_path, index=True) # Set index=True to include the index column\n",
    "\n",
    "# Save the summary outputs to excel\n",
    "df_summary.to_excel(excel_file_path, index=True)  # Set index=True to include the index column\n",
    "\n",
    "print(f\"Forecast Summary saved in {excel_file_path}\")"
   ]
  },
  {
   "cell_type": "markdown",
   "id": "e32c1449",
   "metadata": {},
   "source": [
    "### Summary\n",
    "This notebook showed how to simulate and forecast the number of patients on treatment with **Drug X** over time using a modular and flexible modeling approach.\n",
    "\n",
    "Starting from the definition of an eligible patient population, I simulated their journey through multiple stages — being seen by users, starting treatment, and persisting on therapy — to produce a forecast funnel that captures the variability and uncertainty in real-world dynamics.\n",
    "\n",
    "The workflow consists of five steps:\n",
    "\n",
    "1. **Set Forecast Parameters.**\n",
    "    Define inputs such as eligible population size, launch date, user adoption, treatment probability, and persistence duration.\n",
    "\n",
    "2. **Run Simulations.**\n",
    "    Generate multiple forecasts to reflect uncertainty using random processes for patient behavior and treatment dynamics.\n",
    "\n",
    "3. **Aggregate Results.**\n",
    "    Consolidate the outcomes across simulations into a single structure for analysis.\n",
    "\n",
    "4. **Summarize Forecast Funnel.**\n",
    "    Calculate and visualize percentiles (e.g., 5th, 50th, 95th) to communicate expected range and confidence.\n",
    "\n",
    "5. **Analyze or Export.**\n",
    "    Extract key metrics for reporting, and optionally save outputs for future use.\n",
    "\n",
    "This structure provides a foundation for country-level forecasting and can be extended to test alternative scenarios, assumptions, or be applied across multiple markets.\n",
    "\n",
    "\n",
    "\n"
   ]
  }
 ],
 "metadata": {
  "kernelspec": {
   "display_name": "base",
   "language": "python",
   "name": "python3"
  },
  "language_info": {
   "codemirror_mode": {
    "name": "ipython",
    "version": 3
   },
   "file_extension": ".py",
   "mimetype": "text/x-python",
   "name": "python",
   "nbconvert_exporter": "python",
   "pygments_lexer": "ipython3",
   "version": "3.11.7"
  }
 },
 "nbformat": 4,
 "nbformat_minor": 5
}
